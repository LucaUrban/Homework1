{
 "cells": [
  {
   "cell_type": "markdown",
   "metadata": {},
   "source": [
    "# Seconda Parte"
   ]
  },
  {
   "cell_type": "markdown",
   "metadata": {},
   "source": [
    "### Birthday Cake Candles"
   ]
  },
  {
   "cell_type": "code",
   "execution_count": null,
   "metadata": {},
   "outputs": [],
   "source": [
    "# This function first taxes the maximum value of the list anf then uses it to find the number of the occurences \n",
    "\n",
    "def birthdayCakeCandles(ar):\n",
    "    cont = 0\n",
    "    cMax = max(ar)\n",
    "    for i in ar:\n",
    "        if i == cMax:\n",
    "            cont += 1\n",
    "    return cont"
   ]
  },
  {
   "cell_type": "markdown",
   "metadata": {},
   "source": [
    "### Kangaroo"
   ]
  },
  {
   "cell_type": "code",
   "execution_count": null,
   "metadata": {},
   "outputs": [],
   "source": [
    "def kangaroo(arr):\n",
    "    k1 = arr[0:2]; k2 = arr[2:]\n",
    "    sp1 = arr[0]; sp2 = arr[2]\n",
    "    i = 1\n",
    "    \n",
    "    # controlling if the kangaroos can reach each other\n",
    "    if k1[0] <= k2[0]:\n",
    "        if k1[1] <= k2[1]:\n",
    "            print(\"NO\")\n",
    "        else:\n",
    "            # controls if after the two kangaroos makes a step the one who was behind overtaken the other\n",
    "            while k1[0] < k2[0]:\n",
    "                k1[0] = sp1 + (i * k1[1])\n",
    "                k2[0] = sp2 + (i * k2[1])\n",
    "                i += 1\n",
    "            print(\"YES\" if k1[0] == k2[0] else \"NO\")\n",
    "    else:\n",
    "        if k1[1] >= k2[1]:\n",
    "            print(\"NO\")\n",
    "        else:\n",
    "            while k2[0] < k1[0]:\n",
    "                k1[0] += sp1 + (i * k1[1])\n",
    "                k2[0] += sp2 + (i * k2[1])\n",
    "                i += 1\n",
    "            print(\"YES\" if k1[0] == k2[0] else \"NO\")"
   ]
  },
  {
   "cell_type": "markdown",
   "metadata": {},
   "source": [
    "### Viral Advertising"
   ]
  },
  {
   "cell_type": "code",
   "execution_count": null,
   "metadata": {},
   "outputs": [],
   "source": [
    "def viralAdvertising(n):\n",
    "    # the first day\n",
    "    l = [5, 2, 2]\n",
    "\n",
    "    # computes the values of the table for every day and in after the last print the result\n",
    "    for i in range(1, n):\n",
    "        l[0] = 3 * l[1]\n",
    "        l[1] = int(l[0]/2)\n",
    "        l[2] += l[1]\n",
    "\n",
    "    print(l[2])"
   ]
  },
  {
   "cell_type": "markdown",
   "metadata": {},
   "source": [
    "### Recursive Digit Sum"
   ]
  },
  {
   "cell_type": "code",
   "execution_count": null,
   "metadata": {},
   "outputs": [],
   "source": [
    "# if the lenght is equal to one returns the value, instead it reduce the string and passes it to itself with the multiplication \n",
    "# factor equal to one\n",
    "\n",
    "def superDigit(n, k):\n",
    "    s = n * k; tot = 0\n",
    "    if len(s) == 1:\n",
    "        return int(n)\n",
    "    else:\n",
    "        for i in s:\n",
    "            tot += int(i)\n",
    "        return superDigit(str(tot), 1)"
   ]
  },
  {
   "cell_type": "markdown",
   "metadata": {},
   "source": [
    "### Insertion Sort - Part 1"
   ]
  },
  {
   "cell_type": "code",
   "execution_count": null,
   "metadata": {},
   "outputs": [],
   "source": [
    "# prints the elements of the list according to the pattern\n",
    "def stampaArr(arr):\n",
    "    s = \"\"\n",
    "    for el in arr:\n",
    "        s += str(el) + \" \"\n",
    "    print(s)\n",
    "        \n",
    "def firstInsSort(arr, n):\n",
    "    i = 0; val = 0\n",
    "\n",
    "    # controls the item that is unsorted \n",
    "    while arr[i] <= arr[i+1]:\n",
    "        i += 1\n",
    "    val = arr[i+1]\n",
    "    arr[i+1] = arr[i]\n",
    "    stampaArr(arr)\n",
    "\n",
    "    # transpose by one the sorted values and insert the unsorted in the right place\n",
    "    while arr[i-1] > val and i != 0:\n",
    "        arr[i] = arr[i-1]\n",
    "        stampaArr(arr)\n",
    "        i -=1\n",
    "    \n",
    "    arr[i] = val\n",
    "    stampaArr(arr)"
   ]
  },
  {
   "cell_type": "markdown",
   "metadata": {},
   "source": [
    "### Insertion Sort - Part 2"
   ]
  },
  {
   "cell_type": "code",
   "execution_count": null,
   "metadata": {},
   "outputs": [],
   "source": [
    "def stampaArr(arr):\n",
    "    s = \"\"\n",
    "    for el in arr:\n",
    "        s += str(el) + \" \"\n",
    "    print(s)\n",
    "        \n",
    "def secInsSort(arr, n):\n",
    "    i = 0; val = 0\n",
    "\n",
    "    # applies the insertion sort to the input\n",
    "    for i in range(n-1):\n",
    "        if arr[i] > arr[i+1]:\n",
    "            val = arr[i+1]\n",
    "            arr[i+1] = arr[i]\n",
    "\n",
    "            while arr[i-1] > val and i != 0:\n",
    "                arr[i] = arr[i-1]\n",
    "                i -=1\n",
    "        \n",
    "            arr[i] = val\n",
    "        val = 0\n",
    "        stampaArr(arr)"
   ]
  }
 ],
 "metadata": {
  "kernelspec": {
   "display_name": "Python 3",
   "language": "python",
   "name": "python3"
  },
  "language_info": {
   "codemirror_mode": {
    "name": "ipython",
    "version": 3
   },
   "file_extension": ".py",
   "mimetype": "text/x-python",
   "name": "python",
   "nbconvert_exporter": "python",
   "pygments_lexer": "ipython3",
   "version": "3.7.3"
  }
 },
 "nbformat": 4,
 "nbformat_minor": 2
}
